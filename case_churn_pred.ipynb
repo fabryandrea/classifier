{
 "cells": [
  {
   "cell_type": "markdown",
   "metadata": {},
   "source": [
    "# Predicting Customer Churn for Ride-Sharing Company"
   ]
  },
  {
   "cell_type": "markdown",
   "metadata": {},
   "source": [
    "A ride-sharing company is interested in predicting rider retention. To help explore this question, they provided a sample dataset of a cohort of users who signed up for an account in January 2014. The data was pulled on July 1, 2014. The company considers a user retained if they were “active” (i.e. took a trip) in the preceding 30 days (from the day the data was pulled). The task is to build a model to distinguish customers who are likely to churn based on available data and propose actionable plans to reduce churn."
   ]
  },
  {
   "cell_type": "code",
   "execution_count": 1,
   "metadata": {},
   "outputs": [],
   "source": [
    "# imports\n",
    "import numpy as np\n",
    "import pandas as pd\n",
    "import os\n",
    "import warnings\n",
    "warnings.filterwarnings('ignore')"
   ]
  },
  {
   "cell_type": "code",
   "execution_count": 2,
   "metadata": {},
   "outputs": [],
   "source": [
    "%load_ext autoreload\n",
    "%autoreload 2\n",
    "import autoreload"
   ]
  },
  {
   "cell_type": "markdown",
   "metadata": {},
   "source": [
    "## 1. Load data"
   ]
  },
  {
   "cell_type": "code",
   "execution_count": 1,
   "metadata": {},
   "outputs": [
    {
     "data": {
      "text/html": [
       "<div>\n",
       "<style scoped>\n",
       "    .dataframe tbody tr th:only-of-type {\n",
       "        vertical-align: middle;\n",
       "    }\n",
       "\n",
       "    .dataframe tbody tr th {\n",
       "        vertical-align: top;\n",
       "    }\n",
       "\n",
       "    .dataframe thead th {\n",
       "        text-align: right;\n",
       "    }\n",
       "</style>\n",
       "<table border=\"1\" class=\"dataframe\">\n",
       "  <thead>\n",
       "    <tr style=\"text-align: right;\">\n",
       "      <th></th>\n",
       "      <th>avg_dist</th>\n",
       "      <th>avg_rating_by_driver</th>\n",
       "      <th>avg_rating_of_driver</th>\n",
       "      <th>avg_surge</th>\n",
       "      <th>city</th>\n",
       "      <th>last_trip_date</th>\n",
       "      <th>phone</th>\n",
       "      <th>signup_date</th>\n",
       "      <th>surge_pct</th>\n",
       "      <th>trips_in_first_30_days</th>\n",
       "      <th>luxury_car_user</th>\n",
       "      <th>weekday_pct</th>\n",
       "    </tr>\n",
       "  </thead>\n",
       "  <tbody>\n",
       "    <tr>\n",
       "      <th>0</th>\n",
       "      <td>6.94</td>\n",
       "      <td>5.0</td>\n",
       "      <td>5.0</td>\n",
       "      <td>1.00</td>\n",
       "      <td>Astapor</td>\n",
       "      <td>2014-05-03</td>\n",
       "      <td>Android</td>\n",
       "      <td>2014-01-12</td>\n",
       "      <td>0.0</td>\n",
       "      <td>0</td>\n",
       "      <td>False</td>\n",
       "      <td>100.0</td>\n",
       "    </tr>\n",
       "    <tr>\n",
       "      <th>1</th>\n",
       "      <td>8.06</td>\n",
       "      <td>5.0</td>\n",
       "      <td>5.0</td>\n",
       "      <td>1.00</td>\n",
       "      <td>Astapor</td>\n",
       "      <td>2014-01-26</td>\n",
       "      <td>Android</td>\n",
       "      <td>2014-01-25</td>\n",
       "      <td>0.0</td>\n",
       "      <td>2</td>\n",
       "      <td>True</td>\n",
       "      <td>0.0</td>\n",
       "    </tr>\n",
       "    <tr>\n",
       "      <th>2</th>\n",
       "      <td>21.50</td>\n",
       "      <td>4.0</td>\n",
       "      <td>NaN</td>\n",
       "      <td>1.00</td>\n",
       "      <td>Winterfell</td>\n",
       "      <td>2014-05-21</td>\n",
       "      <td>iPhone</td>\n",
       "      <td>2014-01-02</td>\n",
       "      <td>0.0</td>\n",
       "      <td>1</td>\n",
       "      <td>True</td>\n",
       "      <td>100.0</td>\n",
       "    </tr>\n",
       "    <tr>\n",
       "      <th>3</th>\n",
       "      <td>9.46</td>\n",
       "      <td>5.0</td>\n",
       "      <td>NaN</td>\n",
       "      <td>2.75</td>\n",
       "      <td>Winterfell</td>\n",
       "      <td>2014-01-10</td>\n",
       "      <td>Android</td>\n",
       "      <td>2014-01-09</td>\n",
       "      <td>100.0</td>\n",
       "      <td>1</td>\n",
       "      <td>False</td>\n",
       "      <td>100.0</td>\n",
       "    </tr>\n",
       "    <tr>\n",
       "      <th>4</th>\n",
       "      <td>13.77</td>\n",
       "      <td>5.0</td>\n",
       "      <td>NaN</td>\n",
       "      <td>1.00</td>\n",
       "      <td>Winterfell</td>\n",
       "      <td>2014-05-13</td>\n",
       "      <td>iPhone</td>\n",
       "      <td>2014-01-31</td>\n",
       "      <td>0.0</td>\n",
       "      <td>0</td>\n",
       "      <td>False</td>\n",
       "      <td>100.0</td>\n",
       "    </tr>\n",
       "  </tbody>\n",
       "</table>\n",
       "</div>"
      ],
      "text/plain": [
       "   avg_dist  avg_rating_by_driver  avg_rating_of_driver  avg_surge  \\\n",
       "0      6.94                   5.0                   5.0       1.00   \n",
       "1      8.06                   5.0                   5.0       1.00   \n",
       "2     21.50                   4.0                   NaN       1.00   \n",
       "3      9.46                   5.0                   NaN       2.75   \n",
       "4     13.77                   5.0                   NaN       1.00   \n",
       "\n",
       "         city last_trip_date    phone signup_date  surge_pct  \\\n",
       "0     Astapor     2014-05-03  Android  2014-01-12        0.0   \n",
       "1     Astapor     2014-01-26  Android  2014-01-25        0.0   \n",
       "2  Winterfell     2014-05-21   iPhone  2014-01-02        0.0   \n",
       "3  Winterfell     2014-01-10  Android  2014-01-09      100.0   \n",
       "4  Winterfell     2014-05-13   iPhone  2014-01-31        0.0   \n",
       "\n",
       "   trips_in_first_30_days  luxury_car_user  weekday_pct  \n",
       "0                       0            False        100.0  \n",
       "1                       2             True          0.0  \n",
       "2                       1             True        100.0  \n",
       "3                       1            False        100.0  \n",
       "4                       0            False        100.0  "
      ]
     },
     "execution_count": 1,
     "metadata": {},
     "output_type": "execute_result"
    }
   ],
   "source": [
    "# read ride data\n",
    "from load_data import load_csv_data\n",
    "\n",
    "ride_train = load_csv_data(name='churn_train.csv')\n",
    "ride_train.head()"
   ]
  },
  {
   "cell_type": "markdown",
   "metadata": {},
   "source": [
    "## 2. Prep data"
   ]
  },
  {
   "cell_type": "markdown",
   "metadata": {},
   "source": [
    "The data was made available in two csv documents (separate documents with the training and test sets). The training set contains 40,000 entries and 12 columns. The following columns need work:\n",
    "* The last_trip_date and signup_date columns are strings and have to be converted to datetime. Also, I need to create Boolean not_active column from these dates, which will be the target variable.\n",
    "* There are 162 missing ratings by drivers, 6,528 missing ratings by riders, and 319 missing phone numbers. I decided to remove rows with missing phone numbers and impute ratings using the mode of all values.\n",
    "* There are two categorical features, city and phone. They need to be encoded for some of the estimators (one hot encoding).\n",
    "* Numerical features will need to be standardized for some models using StandardScaler.\n",
    "\n",
    "Data cleaning tasks involving datetime transformations will regrettably have to be done outside a proper pipeline. Since Scikit-Learn operates with homogeneous numpy arrays and pandas are heterogeneous dtypes, datetimes cannot be stored and manipulated natively in numpy arrays."
   ]
  },
  {
   "cell_type": "code",
   "execution_count": 3,
   "metadata": {},
   "outputs": [
    {
     "name": "stdout",
     "output_type": "stream",
     "text": [
      "<class 'pandas.core.frame.DataFrame'>\n",
      "RangeIndex: 40000 entries, 0 to 39999\n",
      "Data columns (total 12 columns):\n",
      "avg_dist                  40000 non-null float64\n",
      "avg_rating_by_driver      39838 non-null float64\n",
      "avg_rating_of_driver      33472 non-null float64\n",
      "avg_surge                 40000 non-null float64\n",
      "city                      40000 non-null object\n",
      "last_trip_date            40000 non-null datetime64[ns]\n",
      "phone                     39681 non-null object\n",
      "signup_date               40000 non-null datetime64[ns]\n",
      "surge_pct                 40000 non-null float64\n",
      "trips_in_first_30_days    40000 non-null int64\n",
      "luxury_car_user           40000 non-null bool\n",
      "weekday_pct               40000 non-null float64\n",
      "dtypes: bool(1), datetime64[ns](2), float64(6), int64(1), object(2)\n",
      "memory usage: 3.4+ MB\n"
     ]
    }
   ],
   "source": [
    "# convert dates into datetime \n",
    "from cleaning_dates import date_transformer\n",
    "\n",
    "columns = ['last_trip_date', 'signup_date']\n",
    "\n",
    "ride_train = date_transformer(ride_train, columns)\n",
    "ride_train.info()"
   ]
  },
  {
   "cell_type": "code",
   "execution_count": 4,
   "metadata": {},
   "outputs": [],
   "source": [
    "# create label df with not_active column\n",
    "from cleaning_dates import create_not_active\n",
    "\n",
    "ride_label = create_not_active(ride_train, 'last_trip_date', 'not_active')"
   ]
  },
  {
   "cell_type": "markdown",
   "metadata": {},
   "source": [
    "Here I am setting up a proper transformation pipeline for the rest of the data preparation/cleaning tasks. I will use different pipelines for distance-based models (such as SVM and kNN, which require scaling) and ensemble methods. Pipelines also make it easy to adjust transformation methods at a later stage to help find the best-performing model."
   ]
  },
  {
   "cell_type": "code",
   "execution_count": 5,
   "metadata": {},
   "outputs": [],
   "source": [
    "# set up pipeline for SVM and kNN (both need scaling)\n",
    "from sklearn.pipeline import Pipeline\n",
    "from sklearn.preprocessing import Imputer, StandardScaler\n",
    "from cleaning_custom import DataFrameSelector, CustomLabelBinarizer\n",
    "from sklearn.pipeline import FeatureUnion\n",
    "\n",
    "num_attribs = ['avg_dist', 'avg_rating_by_driver', 'avg_rating_of_driver','avg_surge', 'surge_pct',\\\n",
    "               'trips_in_first_30_days', 'weekday_pct']\n",
    "cat_attribs = ['city', 'phone']\n",
    "\n",
    "\n",
    "num_pipeline = Pipeline([\n",
    "        ('selector', DataFrameSelector(num_attribs)),\n",
    "        ('imputer', Imputer(strategy=\"most_frequent\")), # used mode for ensembles, drop for SVM\n",
    "        ('std_scaler', StandardScaler()),\n",
    "    ])\n",
    "\n",
    "cat_pipeline = Pipeline([\n",
    "        ('selector', DataFrameSelector(cat_attribs)),\n",
    "        ('cat_encoder', CustomLabelBinarizer(cat_attribs)),\n",
    "    ])\n",
    "\n",
    "# put numerical and categorical pipeline together\n",
    "full_pipeline = FeatureUnion(transformer_list=[\n",
    "        (\"num_pipeline\", num_pipeline), \n",
    "        (\"cat_pipeline\", cat_pipeline),\n",
    "    ])\n",
    "\n",
    "# transform data\n",
    "ride_prepared = full_pipeline.fit_transform(ride_train)"
   ]
  },
  {
   "cell_type": "code",
   "execution_count": null,
   "metadata": {},
   "outputs": [],
   "source": [
    "# set x_train and y_train for cross-validation\n",
    "x_train = ride_prepared\n",
    "y_train = ride_label"
   ]
  },
  {
   "cell_type": "markdown",
   "metadata": {},
   "source": [
    "## First Models"
   ]
  },
  {
   "cell_type": "markdown",
   "metadata": {},
   "source": [
    "I shortlisted the following machine learning models for the classification task:\n",
    "\n",
    "* Linear SVM\n",
    "* kNN\n",
    "* SGD Classifier\n",
    "* Ensemble classifiers (bagged trees, random forest, adaboost, stochastic gradient boost)\n",
    "* SVM (other kernels)."
   ]
  },
  {
   "cell_type": "code",
   "execution_count": 8,
   "metadata": {},
   "outputs": [
    {
     "name": "stdout",
     "output_type": "stream",
     "text": [
      "LinearSVC\n",
      "Average scores:  0.7424938161825312\n",
      "Standard Deviation of scores:  0.006157293960869648\n"
     ]
    }
   ],
   "source": [
    "# Support Vector Machine - linear\n",
    "from sklearn.svm import LinearSVC\n",
    "from sklearn.model_selection import cross_val_score\n",
    "from sklearn.model_selection import cross_val_score, StratifiedKFold\n",
    "\n",
    "skf = StratifiedKFold(n_splits=10)\n",
    "\n",
    "# fit a SVM model to the data\n",
    "svc_clf = LinearSVC()\n",
    "svc_clf.fit(x_train, y_train)\n",
    "\n",
    "# evaluate\n",
    "svc_scores = cross_val_score(svc_clf, x_train, y_train, scoring='roc_auc', cv=skf)\n",
    "print(svc_clf.__class__.__name__)\n",
    "print(\"Average scores: \", svc_scores.mean())\n",
    "print(\"Standard Deviation of scores: \", svc_scores.std())"
   ]
  },
  {
   "cell_type": "code",
   "execution_count": 36,
   "metadata": {},
   "outputs": [
    {
     "name": "stdout",
     "output_type": "stream",
     "text": [
      "KNeighborsClassifier\n",
      "Average scores:  0.781875912884089\n",
      "Standard Deviation of scores:  0.0028988900803399303\n"
     ]
    }
   ],
   "source": [
    "# k-Nearest Neighbor \n",
    "from sklearn.neighbors import KNeighborsClassifier\n",
    "from sklearn.model_selection import cross_val_score, StratifiedKFold\n",
    "\n",
    "skf = StratifiedKFold(n_splits=10)\n",
    "\n",
    "# fit a k-nearest neighbor model to the data\n",
    "knn_clf = KNeighborsClassifier()\n",
    "knn_clf.fit(x_train, y_train)\n",
    "\n",
    "# evaluate\n",
    "knn_scores = cross_val_score(knn_clf, x_train, y_train, scoring='roc_auc', cv=skf)\n",
    "print(knn_clf.__class__.__name__)\n",
    "print(\"Average scores: \", knn_scores.mean())\n",
    "print(\"Standard Deviation of scores: \", knn_scores.std())"
   ]
  },
  {
   "cell_type": "markdown",
   "metadata": {},
   "source": [
    "k-Nearest Neighbor did better than the linear Support Vector Machine, which is both surprising (kNN usually doesn't do well with more than five features) and unsurprising (it is probably not a linear relationship between the features and the target variable). I ran SVM with nonlinear kernels (in another notebook) and got much better scores (an AUC of 0.82 with a standard deviation comparable to kNN), so I will only do parameter tuning on SVMs."
   ]
  },
  {
   "cell_type": "markdown",
   "metadata": {},
   "source": [
    "# Ensemble Models"
   ]
  },
  {
   "cell_type": "markdown",
   "metadata": {},
   "source": [
    "For the ensemble models, I did not scale the data. With the sheer exception of the Stochastic Gradient Descent Classifer, they all achieved an over 0.80 AUC score. For brevity, I only tuned the parameters of the Stochastic Gradient Boosted Decision Trees and the Random Forests, since the latter may provide some insight into the customer characteristics that predict churn through the feature_importances attribute."
   ]
  },
  {
   "cell_type": "code",
   "execution_count": 7,
   "metadata": {},
   "outputs": [],
   "source": [
    "# set up pipeline for ensembles\n",
    "from sklearn.pipeline import Pipeline\n",
    "from sklearn.preprocessing import Imputer\n",
    "from cleaning_custom import DataFrameSelector, CustomLabelBinarizer\n",
    "from sklearn.pipeline import FeatureUnion\n",
    "\n",
    "num_attribs = ['avg_dist', 'avg_rating_by_driver', 'avg_rating_of_driver','avg_surge', 'surge_pct',\\\n",
    "               'trips_in_first_30_days', 'weekday_pct']\n",
    "cat_attribs = ['city', 'phone']\n",
    "\n",
    "\n",
    "num_pipeline = Pipeline([\n",
    "        ('selector', DataFrameSelector(num_attribs)),\n",
    "        ('imputer', Imputer(strategy=\"most_frequent\")), # used mode for ensembles, drop for SVM\n",
    "    ])\n",
    "\n",
    "cat_pipeline = Pipeline([\n",
    "        ('selector', DataFrameSelector(cat_attribs)),\n",
    "        ('cat_encoder', CustomLabelBinarizer(cat_attribs)),\n",
    "    ])\n",
    "\n",
    "from sklearn.pipeline import FeatureUnion\n",
    "\n",
    "full_pipeline = FeatureUnion(transformer_list=[\n",
    "        (\"num_pipeline\", num_pipeline), \n",
    "        (\"cat_pipeline\", cat_pipeline),\n",
    "    ])\n",
    "\n",
    "ride_prepared_noscale = full_pipeline.fit_transform(ride_train)\n",
    "\n",
    "# set X_train and X_test for cross-validation\n",
    "x_train1 = ride_prepared_noscale\n",
    "y_train = ride_label"
   ]
  },
  {
   "cell_type": "code",
   "execution_count": 12,
   "metadata": {},
   "outputs": [
    {
     "name": "stdout",
     "output_type": "stream",
     "text": [
      "SGDClassifier\n",
      "Average SGD scores:  0.6636649993853246\n",
      "Standard Deviation of SGD scores:  0.03098091622974281\n"
     ]
    }
   ],
   "source": [
    "# Stochastic Gradient Descent classifier\n",
    "from sklearn.linear_model import SGDClassifier\n",
    "from sklearn.model_selection import cross_val_score, StratifiedKFold\n",
    "\n",
    "skf = StratifiedKFold(n_splits=10)\n",
    "\n",
    "# fit an SGD classifier model to the data\n",
    "sgd_clf = SGDClassifier(random_state=1)\n",
    "sgd_clf.fit(x_train1, y_train)\n",
    "\n",
    "# evaluate\n",
    "sgd_scores = cross_val_score(sgd_clf, x_train1, y_train, scoring='roc_auc', cv=skf)\n",
    "print(sgd_clf.__class__.__name__)\n",
    "print(\"Average SGD scores: \", sgd_scores.mean())\n",
    "print(\"Standard Deviation of SGD scores: \", sgd_scores.std())"
   ]
  },
  {
   "cell_type": "code",
   "execution_count": 13,
   "metadata": {},
   "outputs": [
    {
     "name": "stdout",
     "output_type": "stream",
     "text": [
      "BaggingClassifier\n",
      "Average scores:  0.8076228171889006\n",
      "Standard Deviation of scores:  0.006061252584623839\n"
     ]
    }
   ],
   "source": [
    "# Bagged Decision Trees for Classification\n",
    "from sklearn.ensemble import BaggingClassifier\n",
    "from sklearn.tree import DecisionTreeClassifier\n",
    "from sklearn.model_selection import cross_val_score, StratifiedKFold\n",
    "\n",
    "skf = StratifiedKFold(n_splits=10)\n",
    "\n",
    "seed = 1\n",
    "cart = DecisionTreeClassifier()\n",
    "num_trees = 100\n",
    "\n",
    "btc_clf =  BaggingClassifier(base_estimator=cart, n_estimators=num_trees)\n",
    "btc_clf.fit(x_train1, y_train)\n",
    "\n",
    "# evaluate\n",
    "btc_scores = cross_val_score(btc_clf, x_train1, y_train, scoring='roc_auc', cv=skf)\n",
    "print(btc_clf.__class__.__name__)\n",
    "print(\"Average scores: \", btc_scores.mean())\n",
    "print(\"Standard Deviation of scores: \", btc_scores.std())"
   ]
  },
  {
   "cell_type": "code",
   "execution_count": 10,
   "metadata": {},
   "outputs": [
    {
     "name": "stdout",
     "output_type": "stream",
     "text": [
      "RandomForestClassifier\n",
      "Average scores:  0.8073042319581699\n",
      "Standard Deviation of scores:  0.004308292930064956\n"
     ]
    }
   ],
   "source": [
    "# Random Forest Classification\n",
    "from sklearn.ensemble import RandomForestClassifier\n",
    "from sklearn.model_selection import cross_val_score, StratifiedKFold\n",
    "\n",
    "skf = StratifiedKFold(n_splits=10)\n",
    "\n",
    "num_trees = 100\n",
    "max_features = 3\n",
    "\n",
    "# fit random fortest to the data\n",
    "rfc_clf = RandomForestClassifier(n_estimators=num_trees, max_features=max_features)\n",
    "rfc_clf.fit(x_train1, y_train)\n",
    "\n",
    "# evaluate\n",
    "rfc_scores = cross_val_score(rfc_clf, x_train1, y_train, scoring='roc_auc', cv=skf)\n",
    "print(rfc_clf.__class__.__name__)\n",
    "print(\"Average scores: \", rfc_scores.mean())\n",
    "print(\"Standard Deviation of scores: \", rfc_scores.std())"
   ]
  },
  {
   "cell_type": "code",
   "execution_count": 15,
   "metadata": {},
   "outputs": [
    {
     "name": "stdout",
     "output_type": "stream",
     "text": [
      "AdaBoostClassifier\n",
      "Average scores:  0.8369841958465413\n",
      "Standard Deviation of scores:  0.004496452958254571\n"
     ]
    }
   ],
   "source": [
    "# AdaBoost Classifier\n",
    "from sklearn.ensemble import AdaBoostClassifier\n",
    "from sklearn.model_selection import cross_val_score, StratifiedKFold\n",
    "\n",
    "skf = StratifiedKFold(n_splits=10)\n",
    "\n",
    "seed = 1\n",
    "num_trees = 30\n",
    "\n",
    "# fit AdaBoost to data\n",
    "abc_clf = AdaBoostClassifier(n_estimators=num_trees, random_state=seed)\n",
    "abc_clf.fit(x_train1, y_train)\n",
    "\n",
    "# evaluate\n",
    "abc_scores = cross_val_score(abc_clf, x_train1, y_train, scoring='roc_auc', cv=skf)\n",
    "print(abc_clf.__class__.__name__)\n",
    "print(\"Average scores: \", abc_scores.mean())\n",
    "print(\"Standard Deviation of scores: \", abc_scores.std())"
   ]
  },
  {
   "cell_type": "code",
   "execution_count": 16,
   "metadata": {},
   "outputs": [
    {
     "name": "stdout",
     "output_type": "stream",
     "text": [
      "GradientBoostingClassifier\n",
      "Average scores:  0.8454176932019102\n",
      "Standard Deviation of scores:  0.002353485269052784\n"
     ]
    }
   ],
   "source": [
    "# Stochastic Gradient Boosting Classification\n",
    "from sklearn.ensemble import GradientBoostingClassifier\n",
    "from sklearn.model_selection import cross_val_score, StratifiedKFold\n",
    "\n",
    "skf = StratifiedKFold(n_splits=5)\n",
    "\n",
    "seed = 1\n",
    "num_trees = 100\n",
    "\n",
    "# fit model\n",
    "gbc_clf = GradientBoostingClassifier(n_estimators=num_trees, random_state=seed)\n",
    "gbc_clf.fit(x_train1, y_train)\n",
    "\n",
    "# evaluate\n",
    "gbc_scores = cross_val_score(gbc_clf, x_train1, y_train, scoring='roc_auc', cv=skf)\n",
    "print(gbc_clf.__class__.__name__)\n",
    "print(\"Average scores: \", gbc_scores.mean())\n",
    "print(\"Standard Deviation of scores: \", gbc_scores.std())"
   ]
  },
  {
   "cell_type": "markdown",
   "metadata": {},
   "source": [
    "## Finetuning Parameters with GridSearch: SVM"
   ]
  },
  {
   "cell_type": "markdown",
   "metadata": {},
   "source": [
    "For SVM, there are only two parameters to tune: C and gamma. (See here for an interactive demo on how they affect your classification: https://cs.stanford.edu/people/karpathy/svmjs/demo/) In another notebook I tried several kernels as well. A perfect classifier would have an AUC of 1.0, and random guessing will give you a 0.5. SVM with sigmoid actually does worse than random guessing at an AUC score of 0.45!"
   ]
  },
  {
   "cell_type": "code",
   "execution_count": 12,
   "metadata": {},
   "outputs": [
    {
     "data": {
      "text/plain": [
       "{'C': 10, 'gamma': 0.1}"
      ]
     },
     "execution_count": 12,
     "metadata": {},
     "output_type": "execute_result"
    }
   ],
   "source": [
    "# find ideal C and gamma using GridSearch\n",
    "from sklearn.model_selection import GridSearchCV\n",
    "from sklearn.model_selection import RandomizedSearchCV\n",
    "from sklearn.model_selection import StratifiedKFold\n",
    "from sklearn.svm import SVC\n",
    "\n",
    "\n",
    "Cs = [0.001, 0.01, 0.1, 1, 10]\n",
    "gammas = [0.001, 0.01, 0.1, 1]\n",
    "param_grid = {'C': Cs, 'gamma' : gammas}\n",
    "skf = StratifiedKFold(n_splits=5)\n",
    "svm_clf = SVC(kernel='rbf')\n",
    "svc_rand_search = RandomizedSearchCV(svm_clf, param_distributions=param_grid, scoring='roc_auc', cv=skf)\n",
    "\n",
    "# fit the grid with data\n",
    "svc_rand_search.fit(x_train, y_train)\n",
    "\n",
    "# print best results\n",
    "svc_rand_search.best_params_"
   ]
  },
  {
   "cell_type": "code",
   "execution_count": 13,
   "metadata": {},
   "outputs": [
    {
     "name": "stdout",
     "output_type": "stream",
     "text": [
      "SVC\n",
      "Average scores:  0.8181404511659209\n",
      "Standard Deviation of scores:  0.00407412144734861\n"
     ]
    }
   ],
   "source": [
    "# SVM with ideal params - rbf kernel\n",
    "from sklearn.svm import SVC\n",
    "from sklearn.model_selection import cross_val_score, StratifiedKFold\n",
    "\n",
    "skf = StratifiedKFold(n_splits=10)\n",
    "\n",
    "# fit a SVM model to the data\n",
    "svc_clf = SVC(kernel='rbf', C=10, gamma=0.1)\n",
    "svc_clf.fit(x_train, y_train)\n",
    "\n",
    "# evaluate\n",
    "svc_scores = cross_val_score(svc_clf, x_train, y_train, scoring='roc_auc', cv=skf)\n",
    "print(svc_clf.__class__.__name__)\n",
    "print(\"Average scores: \", svc_scores.mean())\n",
    "print(\"Standard Deviation of scores: \", svc_scores.std())"
   ]
  },
  {
   "cell_type": "markdown",
   "metadata": {},
   "source": [
    "## Finetuning Parameters: Gradient Boosted Trees"
   ]
  },
  {
   "cell_type": "markdown",
   "metadata": {},
   "source": [
    "Much like RandomForestClassifier, Gradient Boosted Trees has all the hyperparameters of a DecisionTreeClassifier (to control how trees are grown, such as max_depth, min_samples_leaf, etc.), plus all the hyperparameters of a BaggingClassifier to control the ensemble itself (n_estimators). For more on hyperparameter tuning and gradient boosting: https://www.analyticsvidhya.com/blog/2016/02/complete-guide-parameter-tuning-gradient-boosting-gbm-python/"
   ]
  },
  {
   "cell_type": "code",
   "execution_count": 21,
   "metadata": {},
   "outputs": [
    {
     "data": {
      "text/plain": [
       "{'learning_rate': 0.2,\n",
       " 'loss': 'deviance',\n",
       " 'max_depth': 5,\n",
       " 'max_features': 2,\n",
       " 'min_samples_leaf': 10,\n",
       " 'n_estimators': 200}"
      ]
     },
     "execution_count": 21,
     "metadata": {},
     "output_type": "execute_result"
    }
   ],
   "source": [
    "# find ideal GB params with random grid search\n",
    "# tree params:\n",
    "# max_features sqrt(30%-40% of 13) it should be 2\n",
    "# max_depth 5-20\n",
    "# min_samples_split 0.5%-2% of 40,000 (200, 400, 600, 800) or\n",
    "# min_samples_leaf\n",
    "# boosting params:\n",
    "# learning_rate\n",
    "# loss (deviance for classification)\n",
    "\n",
    "# n_estimator (# of trees) keep it low first\n",
    "# subsample 0.5, 0.8 - analytics vidhya\n",
    "from sklearn.model_selection import RandomizedSearchCV\n",
    "from sklearn.ensemble import GradientBoostingClassifier\n",
    "from sklearn.model_selection import StratifiedKFold\n",
    "\n",
    "# create a parameter grid: map the parameter names to the values\n",
    "param_grid = {'max_features': [1, 2],\n",
    "              'max_depth': [2, 3, 5, 7, 10],\n",
    "              'min_samples_leaf': [1, 2, 3, 5, 7, 10],\n",
    "              'n_estimators': [100, 200],\n",
    "              'learning_rate': [0.01, 0.05, 0.1, 0.2, 0.3, 0.4],\n",
    "              'loss': ['deviance'],}\n",
    "\n",
    "skf = StratifiedKFold(n_splits=10)\n",
    "\n",
    "# instantiate the grid\n",
    "gbc_rand_search = RandomizedSearchCV(GradientBoostingClassifier(warm_start=True), \n",
    "                                 param_distributions=param_grid, scoring='roc_auc', cv=skf, \n",
    "                                 n_iter=10, n_jobs=-1)\n",
    "# fit the grid with data\n",
    "gbc_rand_search.fit(x_train1, y_train)\n",
    "# print best results\n",
    "gbc_rand_search.best_params_"
   ]
  },
  {
   "cell_type": "code",
   "execution_count": 17,
   "metadata": {},
   "outputs": [
    {
     "name": "stdout",
     "output_type": "stream",
     "text": [
      "GradientBoostingClassifier\n",
      "Average scores:  0.8488039740196527\n",
      "Standard Deviation of scores:  0.0040771913784986135\n"
     ]
    }
   ],
   "source": [
    "# GB with ideal params\n",
    "from sklearn.ensemble import GradientBoostingClassifier\n",
    "from sklearn.model_selection import cross_val_score, StratifiedKFold\n",
    "\n",
    "skf = StratifiedKFold(n_splits=10)\n",
    "\n",
    "# fit model\n",
    "gbc_clf = GradientBoostingClassifier(learning_rate= 0.2,\n",
    "                                     loss= 'deviance',\n",
    "                                     max_depth= 5,\n",
    "                                     max_features= 2,\n",
    "                                     min_samples_leaf=10,\n",
    "                                     n_estimators= 200)\n",
    "gbc_clf.fit(x_train1, y_train)\n",
    "\n",
    "# evaluate\n",
    "gbc_scores = cross_val_score(gbc_clf, x_train1, y_train, scoring='roc_auc', cv=skf)\n",
    "print(gbc_clf.__class__.__name__)\n",
    "print(\"Average scores: \", gbc_scores.mean())\n",
    "print(\"Standard Deviation of scores: \", gbc_scores.std())"
   ]
  },
  {
   "cell_type": "markdown",
   "metadata": {},
   "source": [
    "## Finetuning Parameters: Random Forest and Feature Importance"
   ]
  },
  {
   "cell_type": "markdown",
   "metadata": {},
   "source": [
    "Since random forests tackle the high variance of bagged decision trees by randomly sampling not only the data but the features used to build the decision tree at each turn, they generally yield better results than bagged trees. Accordingly, I only ran grid search on random forests. For more on the model's hypermeters, see\n",
    "https://medium.com/@taplapinger/tuning-a-random-forest-classifier-1b252d1dde92\n",
    "\n",
    "I also looked at the most important features using random forest, which turned up little information. Churn shows linear relationship (positive correlation) with Android users and rides originating in \"Astapor,\" but these features could possibly hide a confounding variable – income – as Android owners and residents of this area may have less disposable income. Churn also increases with surge percentages over 5% (unsurprising) and ride distances over 4 miles (again, these riders may be making expensive long-distance trips with a low enough frequency to qualify as 'churned' when churned is defined with a 30-day window)."
   ]
  },
  {
   "cell_type": "code",
   "execution_count": 10,
   "metadata": {},
   "outputs": [
    {
     "data": {
      "text/plain": [
       "{'max_depth': 20,\n",
       " 'max_features': 'auto',\n",
       " 'min_samples_split': 200,\n",
       " 'n_estimators': 400}"
      ]
     },
     "execution_count": 10,
     "metadata": {},
     "output_type": "execute_result"
    }
   ],
   "source": [
    "# Random Forest parameter tuning\n",
    "from sklearn.model_selection import RandomizedSearchCV\n",
    "from sklearn.ensemble import RandomForestClassifier\n",
    "from sklearn.model_selection import StratifiedKFold\n",
    "\n",
    "# create a parameter grid: map the parameter names to the values\n",
    "param_grid = {'max_features': ['auto'],\n",
    "              'n_estimators': [100, 200, 400, 600, 800, 1000],\n",
    "              'max_depth': [2, 3, 5, 7, 10, 20, 30, 40, 50, 100],\n",
    "              'min_samples_split': [200, 400, 600, 800],}\n",
    "\n",
    "skf = StratifiedKFold(n_splits=10)\n",
    "\n",
    "# instantiate the grid\n",
    "rf_rand_search = RandomizedSearchCV(RandomForestClassifier(warm_start=True), \n",
    "                                 param_distributions=param_grid, scoring='roc_auc', cv=skf, \n",
    "                                 n_iter=100, n_jobs=-1)\n",
    "# fit the grid with data\n",
    "rf_rand_search.fit(x_train1, y_train)\n",
    "# print best results\n",
    "rf_rand_search.best_params_"
   ]
  },
  {
   "cell_type": "code",
   "execution_count": 11,
   "metadata": {},
   "outputs": [
    {
     "name": "stdout",
     "output_type": "stream",
     "text": [
      "RandomForestClassifier\n",
      "Average scores:  0.8435702438689212\n",
      "Standard Deviation of scores:  0.0041707778094541926\n"
     ]
    }
   ],
   "source": [
    "# random forest with ideal params\n",
    "from sklearn.ensemble import RandomForestClassifier\n",
    "from sklearn.model_selection import cross_val_score, StratifiedKFold\n",
    "\n",
    "skf = StratifiedKFold(n_splits=10)\n",
    "\n",
    "num_trees = 400\n",
    "max_features = 'auto'\n",
    "min_samples_split=200\n",
    "max_depth=20\n",
    "\n",
    "# fit random fortest to the data\n",
    "rfc_clf = RandomForestClassifier(n_estimators=num_trees, max_features=max_features, \n",
    "                                 min_samples_split=min_samples_split, max_depth=max_depth)\n",
    "rfc_clf.fit(x_train1, y_train)\n",
    "\n",
    "# evaluate\n",
    "rfc_scores = cross_val_score(rfc_clf, x_train1, y_train, scoring='roc_auc', cv=skf)\n",
    "print(rfc_clf.__class__.__name__)\n",
    "print(\"Average scores: \", rfc_scores.mean())\n",
    "print(\"Standard Deviation of scores: \", rfc_scores.std())"
   ]
  },
  {
   "cell_type": "markdown",
   "metadata": {},
   "source": [
    "## Evaluating the Test Set"
   ]
  },
  {
   "cell_type": "markdown",
   "metadata": {},
   "source": [
    "Since the differences between the AUC scores are so small, we cannot discount the possibility that Gradient Boosting only perfors better due to chance in the random sampling of the k-folds. (For more on this topic, see the excellent blog post: https://machinelearningmastery.com/statistical-significance-tests-for-comparing-machine-learning-algorithms/). Instead of running a statistical significance test, here I opted for evaluating all three models on the exact same unseen test set."
   ]
  },
  {
   "cell_type": "code",
   "execution_count": 9,
   "metadata": {},
   "outputs": [],
   "source": [
    "# read in test dataset for SVM\n",
    "from load_data import load_csv_data\n",
    "\n",
    "ride_test = load_csv_data(name='churn_test.csv')\n",
    "\n",
    "# convert dates into datetime \n",
    "from cleaning_dates import date_transformer\n",
    "\n",
    "columns = ['last_trip_date', 'signup_date']\n",
    "\n",
    "ride_test = date_transformer(ride_test, columns)\n",
    "\n",
    "# create label df with not_active column\n",
    "from cleaning_dates import create_not_active\n",
    "\n",
    "ride_label_t = create_not_active(ride_test, 'last_trip_date', 'not_active')\n",
    "\n",
    "# set up pipeline for SVM and kNN (both need scaling)\n",
    "from sklearn.pipeline import Pipeline\n",
    "from sklearn.preprocessing import Imputer, StandardScaler\n",
    "from cleaning_custom import DataFrameSelector, CustomLabelBinarizer\n",
    "from sklearn.pipeline import FeatureUnion\n",
    "\n",
    "num_attribs = ['avg_dist', 'avg_rating_by_driver', 'avg_rating_of_driver','avg_surge', 'surge_pct',\\\n",
    "               'trips_in_first_30_days', 'weekday_pct']\n",
    "cat_attribs = ['city', 'phone']\n",
    "\n",
    "\n",
    "num_pipeline = Pipeline([\n",
    "        ('selector', DataFrameSelector(num_attribs)),\n",
    "        ('imputer', Imputer(strategy=\"most_frequent\")), # used mode for ensembles, drop for SVM\n",
    "        ('std_scaler', StandardScaler()),\n",
    "    ])\n",
    "\n",
    "cat_pipeline = Pipeline([\n",
    "        ('selector', DataFrameSelector(cat_attribs)),\n",
    "        ('cat_encoder', CustomLabelBinarizer(cat_attribs)),\n",
    "    ])\n",
    "\n",
    "# put numerical and categorical pipeline together\n",
    "full_pipeline = FeatureUnion(transformer_list=[\n",
    "        (\"num_pipeline\", num_pipeline), \n",
    "        (\"cat_pipeline\", cat_pipeline),\n",
    "    ])\n",
    "\n",
    "# transform data\n",
    "ride_test_prepared = full_pipeline.fit_transform(ride_test)\n",
    "\n",
    "# set X_train and X_test for cross-validation\n",
    "x_traint = ride_test_prepared\n",
    "y_traint = ride_label_t"
   ]
  },
  {
   "cell_type": "code",
   "execution_count": 10,
   "metadata": {},
   "outputs": [
    {
     "name": "stdout",
     "output_type": "stream",
     "text": [
      "SVC\n",
      "Average scores:  0.8094650267160033\n",
      "Standard Deviation of scores:  0.012716216850244667\n"
     ]
    }
   ],
   "source": [
    "# run SVM\n",
    "from sklearn.svm import SVC\n",
    "from sklearn.model_selection import cross_val_score, StratifiedKFold\n",
    "\n",
    "skf = StratifiedKFold(n_splits=10)\n",
    "\n",
    "# fit a SVM model to the data\n",
    "svc_clf = SVC(kernel='rbf', C=10, gamma=0.1)\n",
    "svc_clf.fit(x_traint, y_traint)\n",
    "\n",
    "# evaluate\n",
    "svc_scores = cross_val_score(svc_clf, x_traint, y_traint, scoring='roc_auc', cv=skf)\n",
    "print(svc_clf.__class__.__name__)\n",
    "print(\"Average scores: \", svc_scores.mean())\n",
    "print(\"Standard Deviation of scores: \", svc_scores.std())"
   ]
  },
  {
   "cell_type": "code",
   "execution_count": 6,
   "metadata": {},
   "outputs": [],
   "source": [
    "# set up pipeline for ensembles\n",
    "from sklearn.pipeline import Pipeline\n",
    "from sklearn.preprocessing import Imputer\n",
    "from cleaning_custom import DataFrameSelector, CustomLabelBinarizer\n",
    "from sklearn.pipeline import FeatureUnion\n",
    "\n",
    "num_attribs = ['avg_dist', 'avg_rating_by_driver', 'avg_rating_of_driver','avg_surge', 'surge_pct',\\\n",
    "               'trips_in_first_30_days', 'weekday_pct']\n",
    "cat_attribs = ['city', 'phone']\n",
    "\n",
    "\n",
    "num_pipeline = Pipeline([\n",
    "        ('selector', DataFrameSelector(num_attribs)),\n",
    "        ('imputer', Imputer(strategy=\"most_frequent\")), # used mode for ensembles, drop for SVM\n",
    "    ])\n",
    "\n",
    "cat_pipeline = Pipeline([\n",
    "        ('selector', DataFrameSelector(cat_attribs)),\n",
    "        ('cat_encoder', CustomLabelBinarizer(cat_attribs)),\n",
    "    ])\n",
    "\n",
    "from sklearn.pipeline import FeatureUnion\n",
    "\n",
    "full_pipeline = FeatureUnion(transformer_list=[\n",
    "        (\"num_pipeline\", num_pipeline), \n",
    "        (\"cat_pipeline\", cat_pipeline),\n",
    "    ])\n",
    "\n",
    "ride_test_prepared_noscale = full_pipeline.fit_transform(ride_test)\n",
    "\n",
    "# set X_train and X_test for cross-validation\n",
    "x_traint1 = ride_test_prepared_noscale\n",
    "y_traint = ride_label_t"
   ]
  },
  {
   "cell_type": "code",
   "execution_count": 7,
   "metadata": {},
   "outputs": [
    {
     "name": "stdout",
     "output_type": "stream",
     "text": [
      "RandomForestClassifier\n",
      "Average scores:  0.8305902177793995\n",
      "Standard Deviation of scores:  0.01336479193392914\n"
     ]
    }
   ],
   "source": [
    "# run RF\n",
    "from sklearn.ensemble import RandomForestClassifier\n",
    "from sklearn.model_selection import cross_val_score, StratifiedKFold\n",
    "\n",
    "skf = StratifiedKFold(n_splits=10)\n",
    "\n",
    "num_trees = 400\n",
    "max_features = 'auto'\n",
    "min_samples_split=200\n",
    "max_depth=20\n",
    "\n",
    "# fit random fortest to the data\n",
    "rfc_clf = RandomForestClassifier(n_estimators=num_trees, max_features=max_features, \n",
    "                                 min_samples_split=min_samples_split, max_depth=max_depth)\n",
    "rfc_clf.fit(x_traint1, y_traint)\n",
    "\n",
    "# evaluate\n",
    "rfc_scores = cross_val_score(rfc_clf, x_traint1, y_traint, scoring='roc_auc', cv=skf)\n",
    "print(rfc_clf.__class__.__name__)\n",
    "print(\"Average scores: \", rfc_scores.mean())\n",
    "print(\"Standard Deviation of scores: \", rfc_scores.std())"
   ]
  },
  {
   "cell_type": "code",
   "execution_count": 8,
   "metadata": {},
   "outputs": [
    {
     "name": "stdout",
     "output_type": "stream",
     "text": [
      "GradientBoostingClassifier\n",
      "Average scores:  0.8312978387766107\n",
      "Standard Deviation of scores:  0.01182994582764266\n"
     ]
    }
   ],
   "source": [
    "# run GB\n",
    "from sklearn.ensemble import GradientBoostingClassifier\n",
    "from sklearn.model_selection import cross_val_score, StratifiedKFold\n",
    "\n",
    "skf = StratifiedKFold(n_splits=10)\n",
    "\n",
    "# fit model\n",
    "gbc_clf = GradientBoostingClassifier(learning_rate= 0.2,\n",
    "                                     loss= 'deviance',\n",
    "                                     max_depth= 5,\n",
    "                                     max_features= 2,\n",
    "                                     min_samples_leaf=10,\n",
    "                                     n_estimators= 200)\n",
    "gbc_clf.fit(x_traint1, y_traint)\n",
    "\n",
    "# evaluate\n",
    "gbc_scores = cross_val_score(gbc_clf, x_traint1, y_traint, scoring='roc_auc', cv=skf)\n",
    "print(gbc_clf.__class__.__name__)\n",
    "print(\"Average scores: \", gbc_scores.mean())\n",
    "print(\"Standard Deviation of scores: \", gbc_scores.std())"
   ]
  },
  {
   "cell_type": "markdown",
   "metadata": {},
   "source": [
    "Gradient Boosting outperformed all three on both the average AUC scores and the standard deviation of the scores. The results can be seen on the plot below."
   ]
  },
  {
   "cell_type": "code",
   "execution_count": 11,
   "metadata": {},
   "outputs": [
    {
     "data": {
      "image/png": "[encoded data removed]",
      "text/plain": [
       "<matplotlib.figure.Figure at 0x118e93320>"
      ]
     },
     "metadata": {},
     "output_type": "display_data"
    }
   ],
   "source": [
    "# plot all three\n",
    "from sklearn.metrics import roc_curve\n",
    "import matplotlib.pyplot as plt\n",
    "%matplotlib inline\n",
    "\n",
    "y_true = y_traint\n",
    "y_score_svc = svc_clf.predict(x_traint)\n",
    "y_score_rfc = rfc_clf.predict(x_traint1)\n",
    "y_score_gbc = gbc_clf.predict(x_traint1)\n",
    "\n",
    "fpr1,tpr1,thr1=roc_curve(y_true, y_score_svc)\n",
    "fpr2,tpr2,thr2=roc_curve(y_true, y_score_rfc)\n",
    "fpr3,tpr3,thr3=roc_curve(y_true, y_score_gbc)\n",
    "\n",
    "# Plot ROC Curves\n",
    "plt.figure(figsize=(10,8))\n",
    "plt.plot(fpr1,tpr1,color='#4d4d33',label='SVM rbf')\n",
    "plt.plot(fpr2,tpr2,color='#0080ff',label='Random Forest')\n",
    "plt.plot(fpr3,tpr3,color='#ff3300',label='Gradient Boost')\n",
    "plt.plot([0.,1.],[0.,1.],color='k',linestyle='--')\n",
    "plt.title('ROC Curves for Customer Churn Classification')\n",
    "plt.xlabel('false positive rate')\n",
    "plt.ylabel('true positive rate')\n",
    "plt.legend(fontsize=8)\n",
    "plt.savefig('ROC_curves.png')\n",
    "plt.show()"
   ]
  },
  {
   "cell_type": "markdown",
   "metadata": {},
   "source": [
    "There are a few more options I could have explored given more time. One is to create a stacked classifier that combines some of the best-performing estimators and combines their votes for classification. Two is feature engineering: I could have created a signup_elapsed column (how many days occured between a user's signup and last ride) or added a rating yes/no Boolean column (whether users gave a rating to a driver or not). I could have also used some of the data transformations (such as imputer strategy) as parameters to see if they help to achieve slightly lower misclassification rates."
   ]
  },
  {
   "cell_type": "code",
   "execution_count": 26,
   "metadata": {},
   "outputs": [
    {
     "data": {
      "text/plain": [
       "['my_model.pkl']"
      ]
     },
     "execution_count": 26,
     "metadata": {},
     "output_type": "execute_result"
    }
   ],
   "source": [
    "# pickle final model\n",
    "from sklearn.externals import joblib\n",
    "joblib.dump(gbc_clf, \"my_model.pkl\")"
   ]
  },
  {
   "cell_type": "markdown",
   "metadata": {},
   "source": [
    "## Conclusion"
   ]
  },
  {
   "attachments": {},
   "cell_type": "markdown",
   "metadata": {},
   "source": [
    "For promotional offers, use the Gradient Boosting model to predict churn and use profit curve framework to design promotions. Basic steps of designing the promotion include:\n",
    "\n",
    "1. Normalize the confusion matrix of true positive, false, positive, false negative and true negative customer classifications to probability rates (aka, divide customer counts in each outcome by the total customer number).\n",
    "2. Estimate the cost or benefit of each decision the classifier can take. For instance, what is the price of a false positive error (giving a rider a retention incentive and they still depart)? Or a false negative error (losing a customer because no incentive was offered)?\n",
    "3. Once expected rates and cost/benefit information are in place, they can be used to create expected profits.\n",
    "4. Once expected profits are calculated, it is far easier to pick the best probability threshold to generate the highest expected profit with a limited marketing budget. \n",
    "\n",
    "For more on the profit curve framework, with excellent illustrations, great tips and warnings, see Chapters 7-8 in the amazing book \"Data Science for Business: What You Need to Know\": http://shop.oreilly.com/product/0636920028918.do"
   ]
  }
 ],
 "metadata": {
  "kernelspec": {
   "display_name": "Python 3",
   "language": "python",
   "name": "python3"
  },
  "language_info": {
   "codemirror_mode": {
    "name": "ipython",
    "version": 3
   },
   "file_extension": ".py",
   "mimetype": "text/x-python",
   "name": "python",
   "nbconvert_exporter": "python",
   "pygments_lexer": "ipython3",
   "version": "3.6.4"
  }
 },
 "nbformat": 4,
 "nbformat_minor": 2
}
